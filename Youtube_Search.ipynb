{
  "nbformat": 4,
  "nbformat_minor": 0,
  "metadata": {
    "colab": {
      "provenance": [],
      "authorship_tag": "ABX9TyOW3uc5PKl1vYt9zehpbLzR",
      "include_colab_link": true
    },
    "kernelspec": {
      "name": "python3",
      "display_name": "Python 3"
    },
    "language_info": {
      "name": "python"
    }
  },
  "cells": [
    {
      "cell_type": "markdown",
      "metadata": {
        "id": "view-in-github",
        "colab_type": "text"
      },
      "source": [
        "<a href=\"https://colab.research.google.com/github/Hoa20146128/week13/blob/main/Youtube_Search.ipynb\" target=\"_parent\"><img src=\"https://colab.research.google.com/assets/colab-badge.svg\" alt=\"Open In Colab\"/></a>"
      ]
    },
    {
      "cell_type": "code",
      "execution_count": null,
      "metadata": {
        "colab": {
          "base_uri": "https://localhost:8080/"
        },
        "id": "K2vEXc2KDu2H",
        "outputId": "3e3ba698-b5d3-4b55-cd53-b633cb6661bc"
      },
      "outputs": [
        {
          "output_type": "stream",
          "name": "stdout",
          "text": [
            "Looking in indexes: https://pypi.org/simple, https://us-python.pkg.dev/colab-wheels/public/simple/\n",
            "Collecting youtube_search\n",
            "  Downloading youtube_search-2.1.2-py3-none-any.whl (3.4 kB)\n",
            "Requirement already satisfied: requests in /usr/local/lib/python3.9/dist-packages (from youtube_search) (2.27.1)\n",
            "Requirement already satisfied: idna<4,>=2.5 in /usr/local/lib/python3.9/dist-packages (from requests->youtube_search) (3.4)\n",
            "Requirement already satisfied: certifi>=2017.4.17 in /usr/local/lib/python3.9/dist-packages (from requests->youtube_search) (2022.12.7)\n",
            "Requirement already satisfied: charset-normalizer~=2.0.0 in /usr/local/lib/python3.9/dist-packages (from requests->youtube_search) (2.0.12)\n",
            "Requirement already satisfied: urllib3<1.27,>=1.21.1 in /usr/local/lib/python3.9/dist-packages (from requests->youtube_search) (1.26.15)\n",
            "Installing collected packages: youtube_search\n",
            "Successfully installed youtube_search-2.1.2\n"
          ]
        }
      ],
      "source": [
        "pip install youtube_search"
      ]
    },
    {
      "cell_type": "code",
      "source": [
        "from youtube_search import YoutubeSearch\n",
        "import webbrowser\n",
        "mysong = input('Nhap vao ten bai hat: ')\n",
        "result = YoutubeSearch(mysong, max_results= 10).to_dict()\n",
        "print(result)"
      ],
      "metadata": {
        "colab": {
          "base_uri": "https://localhost:8080/"
        },
        "id": "soV6KjTVDzG4",
        "outputId": "58c0eaa2-eeb4-4646-a5d8-aa48063e662e"
      },
      "execution_count": null,
      "outputs": [
        {
          "output_type": "stream",
          "name": "stdout",
          "text": [
            "Nhap vao ten bai hat: messi\n",
            "[{'id': 'VfXDX9gxwkk', 'thumbnails': ['https://i.ytimg.com/vi/VfXDX9gxwkk/hq720.jpg?sqp=-oaymwEjCOgCEMoBSFryq4qpAxUIARUAAAAAGAElAADIQj0AgKJDeAE=&rs=AOn4CLAekH7cXO2u3hSTVFhkHh1VrwUg_w', 'https://i.ytimg.com/vi/VfXDX9gxwkk/hq720.jpg?sqp=-oaymwEXCNAFEJQDSFryq4qpAwkIARUAAIhCGAE=&rs=AOn4CLDVkOTlJ83WZV_z9jQooWT4ZqDD6g'], 'title': 'Messi 1 in a Trillion Moments', 'long_desc': None, 'channel': 'Dinho', 'duration': '12:06', 'views': '72,056 views', 'publish_time': '1 day ago', 'url_suffix': '/watch?v=VfXDX9gxwkk&pp=ygUFbWVzc2k%3D'}, {'id': 'ZmKy_fnRM_E', 'thumbnails': ['https://i.ytimg.com/vi/ZmKy_fnRM_E/hq720.jpg?sqp=-oaymwEjCOgCEMoBSFryq4qpAxUIARUAAAAAGAElAADIQj0AgKJDeAE=&rs=AOn4CLCkMgq53kIbDsrORW-w7kmDx6Qoeg', 'https://i.ytimg.com/vi/ZmKy_fnRM_E/hq720.jpg?sqp=-oaymwEXCNAFEJQDSFryq4qpAwkIARUAAIhCGAE=&rs=AOn4CLCK5mgkv8wSjdYBZ3hNrVfe_movlw'], 'title': 'Lionel Messi - WORLD CHAMPION - Movie', 'long_desc': None, 'channel': 'MagicalMessi', 'duration': '16:30', 'views': '2,533,316 views', 'publish_time': '4 weeks ago', 'url_suffix': '/watch?v=ZmKy_fnRM_E&pp=ygUFbWVzc2k%3D'}, {'id': 'K-eB7LkmuKs', 'thumbnails': ['https://i.ytimg.com/vi/K-eB7LkmuKs/hq720.jpg?sqp=-oaymwEjCOgCEMoBSFryq4qpAxUIARUAAAAAGAElAADIQj0AgKJDeAE=&rs=AOn4CLCZpF4oDFOW4veynV5WciNs3CTg0w', 'https://i.ytimg.com/vi/K-eB7LkmuKs/hq720.jpg?sqp=-oaymwEXCNAFEJQDSFryq4qpAwkIARUAAIhCGAE=&rs=AOn4CLBFeWWSM9tAIXyfsDrD_ruUR--Bow'], 'title': 'The Story: Lionel Messi 🇦🇷 Fight For Glory', 'long_desc': None, 'channel': 'MagicalMessi', 'duration': '36:45', 'views': '905,354 views', 'publish_time': '6 days ago', 'url_suffix': '/watch?v=K-eB7LkmuKs&pp=ygUFbWVzc2k%3D'}, {'id': 'uHeOwc_Ky6A', 'thumbnails': ['https://i.ytimg.com/vi/uHeOwc_Ky6A/hqdefault.jpg?sqp=-oaymwEjCOADEI4CSFryq4qpAxUIARUAAAAAGAElAADIQj0AgKJDeAE=&rs=AOn4CLC8PovCNrUPZOafUeJ6z90VLGluoQ'], 'title': 'Mi tumruh Lionel Messi chu hei le!! A rualpui te ai a te ṭhin hle.!', 'long_desc': None, 'channel': 'Dan leh Hrai / Lawrkhawm', 'duration': '56:07', 'views': '23,263 views', 'publish_time': '1 day ago', 'url_suffix': '/watch?v=uHeOwc_Ky6A&pp=ygUFbWVzc2k%3D'}, {'id': 'TI1p0E932Aw', 'thumbnails': ['https://i.ytimg.com/vi/TI1p0E932Aw/hq720.jpg?sqp=-oaymwEjCOgCEMoBSFryq4qpAxUIARUAAAAAGAElAADIQj0AgKJDeAE=&rs=AOn4CLCXJRip-RjxjbbFBDIGJhd1btApAw', 'https://i.ytimg.com/vi/TI1p0E932Aw/hq720.jpg?sqp=-oaymwEXCNAFEJQDSFryq4qpAwkIARUAAIhCGAE=&rs=AOn4CLDz_ibUS3Ro9Jnric1GkzgEFCDNjA'], 'title': '💥😶EL REGRESO de MESSI al BARÇA... CADA VEZ MÁS CERCA · EL PLAN y PORCENTAJES · ÚLTIMA HORA', 'long_desc': None, 'channel': 'JKCLife', 'duration': '11:15', 'views': '40,468 views', 'publish_time': '20 hours ago', 'url_suffix': '/watch?v=TI1p0E932Aw&pp=ygUFbWVzc2k%3D'}, {'id': '1UF05rdxR30', 'thumbnails': ['https://i.ytimg.com/vi/1UF05rdxR30/hq720_2.jpg?sqp=-oaymwE9COgCEMoBSFryq4qpAy8IARUAAAAAGAAlAADIQj0AgKJDeAHwAQH4AbYIgAKAD4oCDAgAEAEYZSBWKD8wDw==&rs=AOn4CLCl02qgZxC2BMTJoZuV-uCoAFaTJg', 'https://i.ytimg.com/vi/1UF05rdxR30/hq720_2.jpg?sqp=-oaymwExCNAFEJQDSFryq4qpAyMIARUAAIhCGADwAQH4AbYIgAKAD4oCDAgAEAEYZSBWKD8wDw==&rs=AOn4CLAbmszSdC7u4pDs8gH26bt5mmyS0Q'], 'title': 'Que miras bobo? #shorts #football #messi', 'long_desc': None, 'channel': 'Omar Momani', 'duration': '0:10', 'views': '897,975 views', 'publish_time': '2 weeks ago', 'url_suffix': '/shorts/1UF05rdxR30'}, {'id': '027HPJCosvM', 'thumbnails': ['https://i.ytimg.com/vi/027HPJCosvM/hq720.jpg?sqp=-oaymwEjCOgCEMoBSFryq4qpAxUIARUAAAAAGAElAADIQj0AgKJDeAE=&rs=AOn4CLBTbF7tZqO7YfzkCameS4-2qUeuBQ', 'https://i.ytimg.com/vi/027HPJCosvM/hq720.jpg?sqp=-oaymwEXCNAFEJQDSFryq4qpAwkIARUAAIhCGAE=&rs=AOn4CLA00wNMwguH3BC9-pbAi3dwY6HQow'], 'title': 'OH MY! 😱 MESSI to FC BARCELONA IS DONE and here is why!', 'long_desc': None, 'channel': 'INSIDE FOOTBALL', 'duration': '8:17', 'views': '12,919 views', 'publish_time': '10 hours ago', 'url_suffix': '/watch?v=027HPJCosvM&pp=ygUFbWVzc2k%3D'}, {'id': 'Tuzy7RwjFtI', 'thumbnails': ['https://i.ytimg.com/vi/Tuzy7RwjFtI/hq720.jpg?sqp=-oaymwEjCOgCEMoBSFryq4qpAxUIARUAAAAAGAElAADIQj0AgKJDeAE=&rs=AOn4CLBXcc5ZvfdjtwJVhQ0Kj3E4wcw6yg', 'https://i.ytimg.com/vi/Tuzy7RwjFtI/hq720.jpg?sqp=-oaymwEXCNAFEJQDSFryq4qpAwkIARUAAIhCGAE=&rs=AOn4CLAzc_Bc9azW_aEd3I6iHgq6SQTjxw'], 'title': 'Por que o United ainda DEIXA Maguire JOGAR? | Barça: PROPOSTA a Messi | Bayern: Kahn VAI CAIR | Mais', 'long_desc': None, 'channel': 'MODO CARREIRA SOTO', 'duration': '13:15', 'views': '11,949 views', 'publish_time': '3 hours ago', 'url_suffix': '/watch?v=Tuzy7RwjFtI&pp=ygUFbWVzc2k%3D'}, {'id': 'FMLuE_yo9JI', 'thumbnails': ['https://i.ytimg.com/vi/FMLuE_yo9JI/hq720_2.jpg?sqp=-oaymwE9COgCEMoBSFryq4qpAy8IARUAAAAAGAAlAADIQj0AgKJDeAHwAQH4Ac4FgAKACooCDAgAEAEYXSBdKF0wDw==&rs=AOn4CLBjfrJEm3Zig_FsLnZyk84roTmREw', 'https://i.ytimg.com/vi/FMLuE_yo9JI/hq720_2.jpg?sqp=-oaymwExCNAFEJQDSFryq4qpAyMIARUAAIhCGADwAQH4Ac4FgAKACooCDAgAEAEYXSBdKF0wDw==&rs=AOn4CLAqJSnhNZVgSP_GlSLdfbofESLqGw'], 'title': 'Lionel Messi shows off the World Cup to Argentina’s fans! 🏆', 'long_desc': None, 'channel': 'BT Sport', 'duration': '0:51', 'views': '2,229,072 views', 'publish_time': '3 weeks ago', 'url_suffix': '/shorts/FMLuE_yo9JI'}, {'id': '0vPHioxrrUY', 'thumbnails': ['https://i.ytimg.com/vi/0vPHioxrrUY/hq720.jpg?sqp=-oaymwEjCOgCEMoBSFryq4qpAxUIARUAAAAAGAElAADIQj0AgKJDeAE=&rs=AOn4CLBYvUkoxfMB9eel29IOymnKyRzIkQ', 'https://i.ytimg.com/vi/0vPHioxrrUY/hq720.jpg?sqp=-oaymwEXCNAFEJQDSFryq4qpAwkIARUAAIhCGAE=&rs=AOn4CLCVLYbrhEdOqfsPW5wOAOUu5h8_UQ'], 'title': 'Lionel Messi Destroying Italy at Wembley (La Finalissima 2022) English Commentary - HD 1080i', 'long_desc': None, 'channel': 'Lamberto Prods', 'duration': '18:03', 'views': '4,660 views', 'publish_time': '17 hours ago', 'url_suffix': '/watch?v=0vPHioxrrUY&pp=ygUFbWVzc2k%3D'}]\n"
          ]
        }
      ]
    },
    {
      "cell_type": "code",
      "source": [
        "print(result[0]['url_suffix'])\n",
        "url = 'http://www.youtube.com' + result[0]['url_suffix']\n",
        "print(url)"
      ],
      "metadata": {
        "colab": {
          "base_uri": "https://localhost:8080/"
        },
        "id": "kIiE5rsGEpDZ",
        "outputId": "d8fed666-8f01-4b27-860a-6d858ae2e65b"
      },
      "execution_count": null,
      "outputs": [
        {
          "output_type": "stream",
          "name": "stdout",
          "text": [
            "/watch?v=VfXDX9gxwkk&pp=ygUFbWVzc2k%3D\n",
            "http://www.youtube.com/watch?v=VfXDX9gxwkk&pp=ygUFbWVzc2k%3D\n"
          ]
        }
      ]
    },
    {
      "cell_type": "code",
      "source": [
        "for i in range (0,10):\n",
        "  print(result[i]['url_suffix'])\n",
        "  url = 'http://www.youtube.com' + result[0]['url_suffix']\n",
        "  print(url)"
      ],
      "metadata": {
        "colab": {
          "base_uri": "https://localhost:8080/"
        },
        "id": "UJ6Zk6xTFzhZ",
        "outputId": "3fa9464d-5c84-4fc4-ad36-9b6daf2c0892"
      },
      "execution_count": null,
      "outputs": [
        {
          "output_type": "stream",
          "name": "stdout",
          "text": [
            "/watch?v=VfXDX9gxwkk&pp=ygUFbWVzc2k%3D\n",
            "http://www.youtube.com/watch?v=VfXDX9gxwkk&pp=ygUFbWVzc2k%3D\n",
            "/watch?v=ZmKy_fnRM_E&pp=ygUFbWVzc2k%3D\n",
            "http://www.youtube.com/watch?v=VfXDX9gxwkk&pp=ygUFbWVzc2k%3D\n",
            "/watch?v=K-eB7LkmuKs&pp=ygUFbWVzc2k%3D\n",
            "http://www.youtube.com/watch?v=VfXDX9gxwkk&pp=ygUFbWVzc2k%3D\n",
            "/watch?v=uHeOwc_Ky6A&pp=ygUFbWVzc2k%3D\n",
            "http://www.youtube.com/watch?v=VfXDX9gxwkk&pp=ygUFbWVzc2k%3D\n",
            "/watch?v=TI1p0E932Aw&pp=ygUFbWVzc2k%3D\n",
            "http://www.youtube.com/watch?v=VfXDX9gxwkk&pp=ygUFbWVzc2k%3D\n",
            "/shorts/1UF05rdxR30\n",
            "http://www.youtube.com/watch?v=VfXDX9gxwkk&pp=ygUFbWVzc2k%3D\n",
            "/watch?v=027HPJCosvM&pp=ygUFbWVzc2k%3D\n",
            "http://www.youtube.com/watch?v=VfXDX9gxwkk&pp=ygUFbWVzc2k%3D\n",
            "/watch?v=Tuzy7RwjFtI&pp=ygUFbWVzc2k%3D\n",
            "http://www.youtube.com/watch?v=VfXDX9gxwkk&pp=ygUFbWVzc2k%3D\n",
            "/shorts/FMLuE_yo9JI\n",
            "http://www.youtube.com/watch?v=VfXDX9gxwkk&pp=ygUFbWVzc2k%3D\n",
            "/watch?v=0vPHioxrrUY&pp=ygUFbWVzc2k%3D\n",
            "http://www.youtube.com/watch?v=VfXDX9gxwkk&pp=ygUFbWVzc2k%3D\n"
          ]
        }
      ]
    },
    {
      "cell_type": "code",
      "source": [
        "pip install openpyxl"
      ],
      "metadata": {
        "colab": {
          "base_uri": "https://localhost:8080/"
        },
        "id": "ngCp1h5IGquT",
        "outputId": "eeb160e6-cc98-4ee7-dd11-b1384997a745"
      },
      "execution_count": null,
      "outputs": [
        {
          "output_type": "stream",
          "name": "stdout",
          "text": [
            "Looking in indexes: https://pypi.org/simple, https://us-python.pkg.dev/colab-wheels/public/simple/\n",
            "Requirement already satisfied: openpyxl in /usr/local/lib/python3.9/dist-packages (3.0.10)\n",
            "Requirement already satisfied: et-xmlfile in /usr/local/lib/python3.9/dist-packages (from openpyxl) (1.1.0)\n"
          ]
        }
      ]
    },
    {
      "cell_type": "code",
      "source": [
        "from youtube_search import YoutubeSearch\n",
        "import webbrowser\n",
        "from openpyxl import Workbook\n",
        "data = Workbook()\n",
        "sheet = data.active\n",
        "mysong = input('Xin moi ban chon ten bai hat: ')\n",
        "print(mysong)\n",
        "result = YoutubeSearch(mysong, max_results=10).to_dict()\n",
        "print(result)\n",
        "for i in range (10):\n",
        "  print(result[i]['title'])\n",
        "  print(result[i]['url_suffix'])\n",
        "  url = 'https://www.youtube.com' + result[i]['url_suffix']\n",
        "  print(url)\n",
        "  sheet['A'+str(i+1)] = i+1\n",
        "  sheet['B'+str(i+1)] = result[i]['title']\n",
        "  sheet['C'+str(i+1)] = result[i]['url_suffix']\n",
        "  sheet['D'+str(i+1)] = result[i]['views']\n",
        "  #webbrowser.open(url)\n",
        "data.save('UTE.xlsx')"
      ],
      "metadata": {
        "colab": {
          "base_uri": "https://localhost:8080/"
        },
        "id": "k8dw4CW6HV9F",
        "outputId": "4fa7da3c-092b-4913-8abc-bb3137977567"
      },
      "execution_count": null,
      "outputs": [
        {
          "output_type": "stream",
          "name": "stdout",
          "text": [
            "Xin moi ban chon ten bai hat: yeu 5\n",
            "yeu 5\n",
            "[{'id': 'y576-ONm5II', 'thumbnails': ['https://i.ytimg.com/vi/y576-ONm5II/hq720.jpg?sqp=-oaymwEjCOgCEMoBSFryq4qpAxUIARUAAAAAGAElAADIQj0AgKJDeAE=&rs=AOn4CLCM-ccpn_m4oPp2cUkftqPjolAeTQ', 'https://i.ytimg.com/vi/y576-ONm5II/hq720.jpg?sqp=-oaymwEXCNAFEJQDSFryq4qpAwkIARUAAIhCGAE=&rs=AOn4CLDSL_1kGWo3jlXuw_dJXpYRQqdvVA'], 'title': 'Lyrics || YÊU 5 - Rhymastic', 'long_desc': None, 'channel': 'Jen Hoang', 'duration': '4:11', 'views': '126,232,075 views', 'publish_time': '6 years ago', 'url_suffix': '/watch?v=y576-ONm5II&pp=ygUFeWV1IDU%3D'}, {'id': 'aVMlPZDxd5U', 'thumbnails': ['https://i.ytimg.com/vi/aVMlPZDxd5U/hq720.jpg?sqp=-oaymwE9COgCEMoBSFryq4qpAy8IARUAAAAAGAElAADIQj0AgKJDeAHwAQH4Af4JgALQBYoCDAgAEAEYciBKKC0wDw==&rs=AOn4CLC4VvFTAkepxDWsir-heOqiiXXdeQ', 'https://i.ytimg.com/vi/aVMlPZDxd5U/hq720.jpg?sqp=-oaymwExCNAFEJQDSFryq4qpAyMIARUAAIhCGAHwAQH4Af4JgALQBYoCDAgAEAEYciBKKC0wDw==&rs=AOn4CLB5MDaSpOVEkFnbyP6wdPW3xk-z9g'], 'title': 'Rhymastic - Yêu 5 Remix', 'long_desc': None, 'channel': 'Rhymastic Official', 'duration': '3:28', 'views': '89,135,101 views', 'publish_time': '6 years ago', 'url_suffix': '/watch?v=aVMlPZDxd5U&pp=ygUFeWV1IDU%3D'}, {'id': 'fRAr0pj0gGE', 'thumbnails': ['https://i.ytimg.com/vi/fRAr0pj0gGE/hq720.jpg?sqp=-oaymwEjCOgCEMoBSFryq4qpAxUIARUAAAAAGAElAADIQj0AgKJDeAE=&rs=AOn4CLD3k6khSw2Dhaojzd1SG9iX966A0A', 'https://i.ytimg.com/vi/fRAr0pj0gGE/hq720.jpg?sqp=-oaymwEXCNAFEJQDSFryq4qpAwkIARUAAIhCGAE=&rs=AOn4CLAAcSrkqs3z_3eSOUfXLHMkJHFaIA'], 'title': 'Rhymastic - Yêu 5 (Official Music Video) | 16+', 'long_desc': None, 'channel': 'Rhymastic Official', 'duration': '5:28', 'views': '9,334,309 views', 'publish_time': '5 years ago', 'url_suffix': '/watch?v=fRAr0pj0gGE&pp=ygUFeWV1IDU%3D'}, {'id': 'Qz2P6_sdjwQ', 'thumbnails': ['https://i.ytimg.com/vi/Qz2P6_sdjwQ/hq720.jpg?sqp=-oaymwE9COgCEMoBSFryq4qpAy8IARUAAAAAGAElAADIQj0AgKJDeAHwAQH4Af4JgALQBYoCDAgAEAEYciA_KFAwDw==&rs=AOn4CLD2lpzVDwVPwmnKmPF41tjU7tWCiQ', 'https://i.ytimg.com/vi/Qz2P6_sdjwQ/hq720.jpg?sqp=-oaymwExCNAFEJQDSFryq4qpAyMIARUAAIhCGAHwAQH4Af4JgALQBYoCDAgAEAEYciA_KFAwDw==&rs=AOn4CLCYtml_M5vAC1pT3ztMg3lBdUkmDw'], 'title': 'Rhymastic Playlist || Series Yêu - 1 - 2 - 3 - 4 - 5 - 6', 'long_desc': None, 'channel': 'Rhymastic Official', 'duration': '21:50', 'views': '241,467 views', 'publish_time': '6 months ago', 'url_suffix': '/watch?v=Qz2P6_sdjwQ&pp=ygUFeWV1IDU%3D'}, {'id': '0u7qYMW27H4', 'thumbnails': ['https://i.ytimg.com/vi/0u7qYMW27H4/hq720.jpg?sqp=-oaymwEjCOgCEMoBSFryq4qpAxUIARUAAAAAGAElAADIQj0AgKJDeAE=&rs=AOn4CLCj32FT8k8Nl2UshX7_gmJJZzFlnQ', 'https://i.ytimg.com/vi/0u7qYMW27H4/hq720.jpg?sqp=-oaymwEXCNAFEJQDSFryq4qpAwkIARUAAIhCGAE=&rs=AOn4CLAIf0-lAjqie0JbJRGDfPtO-RwNAw'], 'title': 'NONSTOP VIỆT MIX 2020 | YÊU 5 - Vu Kem Remix | Nhạc Trẻ Remix Hay Nhất 2020', 'long_desc': None, 'channel': 'Hoàng Nam Entertainment', 'duration': '17:14', 'views': '5,616,184 views', 'publish_time': '2 years ago', 'url_suffix': '/watch?v=0u7qYMW27H4&pp=ygUFeWV1IDU%3D'}, {'id': '4cRNC03X-hw', 'thumbnails': ['https://i.ytimg.com/vi/4cRNC03X-hw/hq720.jpg?sqp=-oaymwEjCOgCEMoBSFryq4qpAxUIARUAAAAAGAElAADIQj0AgKJDeAE=&rs=AOn4CLA7ba3s8pfdqvJT0XgWVXpJKqvwtg', 'https://i.ytimg.com/vi/4cRNC03X-hw/hq720.jpg?sqp=-oaymwEXCNAFEJQDSFryq4qpAwkIARUAAIhCGAE=&rs=AOn4CLA6wpr1G6QKyn6YW5YimBSkXhHsJA'], 'title': \"Yêu 5 | Quân A.P & Anh Tú Atus, bộ đôi trai đẹp trổ tài 'bắn rap' siêu ngầu\", 'long_desc': None, 'channel': 'Biển của Hy vọng - Viettel Media', 'duration': '3:35', 'views': '2,508 views', 'publish_time': '3 hours ago', 'url_suffix': '/watch?v=4cRNC03X-hw&pp=ygUFeWV1IDU%3D'}, {'id': 'ezUv_opL_6Q', 'thumbnails': ['https://i.ytimg.com/vi/ezUv_opL_6Q/hqdefault.jpg?sqp=-oaymwE9COADEI4CSFryq4qpAy8IARUAAAAAGAElAADIQj0AgKJDeAHwAQH4Af4JgALQBYoCDAgAEAEYSSBKKHIwDw==&rs=AOn4CLDIIVlotvwSTQvMyTM9TGi1gVX7-w'], 'title': \"【抖音热歌】YEU 5 (Rhymastic's Remix)-F-tidal night / Rhymastic【完整版】\", 'long_desc': None, 'channel': 'Ewe Zhenguang', 'duration': '3:29', 'views': '17,332 views', 'publish_time': '1 year ago', 'url_suffix': '/watch?v=ezUv_opL_6Q&pp=ygUFeWV1IDU%3D'}, {'id': '6R7-587duwY', 'thumbnails': ['https://i.ytimg.com/vi/6R7-587duwY/hq720.jpg?sqp=-oaymwE9COgCEMoBSFryq4qpAy8IARUAAAAAGAElAADIQj0AgKJDeAHwAQH4Af4JgALQBYoCDAgAEAEYZSBQKEAwDw==&rs=AOn4CLBhoPpBMvKLfuiOOjNkYaoA6m5-wQ', 'https://i.ytimg.com/vi/6R7-587duwY/hq720.jpg?sqp=-oaymwExCNAFEJQDSFryq4qpAyMIARUAAIhCGAHwAQH4Af4JgALQBYoCDAgAEAEYZSBQKEAwDw==&rs=AOn4CLAyqkF70PHN1rQbcWuGvdgfFolv2g'], 'title': 'Yêu 5 - Rhymastic (speed) #kylaams', 'long_desc': None, 'channel': 'TKkylaa', 'duration': '2:56', 'views': '2,920,400 views', 'publish_time': '1 year ago', 'url_suffix': '/watch?v=6R7-587duwY&pp=ygUFeWV1IDU%3D'}, {'id': '1QFgJik8_Iw', 'thumbnails': ['https://i.ytimg.com/vi/1QFgJik8_Iw/hq720.jpg?sqp=-oaymwEjCOgCEMoBSFryq4qpAxUIARUAAAAAGAElAADIQj0AgKJDeAE=&rs=AOn4CLBGPgwBM1luN0qTXpwvBQTxJihp_w', 'https://i.ytimg.com/vi/1QFgJik8_Iw/hq720.jpg?sqp=-oaymwEXCNAFEJQDSFryq4qpAwkIARUAAIhCGAE=&rs=AOn4CLD7grnnh1buNWpcjBOMwOrSzlmW0w'], 'title': 'Nghe câu chuyện đứa bé 5 tuổi thất lạc trong rừng mà thắt lòng. thương quá.Giờ anh ở đâu ?', 'long_desc': None, 'channel': 'TUẤN VỸ KẾT NỐI YÊU THƯƠNG', 'duration': '18:41', 'views': '228,196 views', 'publish_time': '5 days ago', 'url_suffix': '/watch?v=1QFgJik8_Iw&pp=ygUFeWV1IDU%3D'}, {'id': '_fLvuNZ1hXY', 'thumbnails': ['https://i.ytimg.com/vi/_fLvuNZ1hXY/hq720.jpg?sqp=-oaymwEjCOgCEMoBSFryq4qpAxUIARUAAAAAGAElAADIQj0AgKJDeAE=&rs=AOn4CLBV6j-_L7351whlSnvLbzsUHWoQ2A', 'https://i.ytimg.com/vi/_fLvuNZ1hXY/hq720.jpg?sqp=-oaymwEXCNAFEJQDSFryq4qpAwkIARUAAIhCGAE=&rs=AOn4CLDon8kbCBHaN4lqsl21ZR0Q9xU-4g'], 'title': '[1 Hour] Yêu 5 - Rhymastic「Audio」- Music 1 Hour', 'long_desc': None, 'channel': '1 Hour Music', 'duration': '1:04:08', 'views': '159,981 views', 'publish_time': '6 years ago', 'url_suffix': '/watch?v=_fLvuNZ1hXY&pp=ygUFeWV1IDU%3D'}]\n",
            "Lyrics || YÊU 5 - Rhymastic\n",
            "/watch?v=y576-ONm5II&pp=ygUFeWV1IDU%3D\n",
            "https://www.youtube.com/watch?v=y576-ONm5II&pp=ygUFeWV1IDU%3D\n",
            "Rhymastic - Yêu 5 Remix\n",
            "/watch?v=aVMlPZDxd5U&pp=ygUFeWV1IDU%3D\n",
            "https://www.youtube.com/watch?v=aVMlPZDxd5U&pp=ygUFeWV1IDU%3D\n",
            "Rhymastic - Yêu 5 (Official Music Video) | 16+\n",
            "/watch?v=fRAr0pj0gGE&pp=ygUFeWV1IDU%3D\n",
            "https://www.youtube.com/watch?v=fRAr0pj0gGE&pp=ygUFeWV1IDU%3D\n",
            "Rhymastic Playlist || Series Yêu - 1 - 2 - 3 - 4 - 5 - 6\n",
            "/watch?v=Qz2P6_sdjwQ&pp=ygUFeWV1IDU%3D\n",
            "https://www.youtube.com/watch?v=Qz2P6_sdjwQ&pp=ygUFeWV1IDU%3D\n",
            "NONSTOP VIỆT MIX 2020 | YÊU 5 - Vu Kem Remix | Nhạc Trẻ Remix Hay Nhất 2020\n",
            "/watch?v=0u7qYMW27H4&pp=ygUFeWV1IDU%3D\n",
            "https://www.youtube.com/watch?v=0u7qYMW27H4&pp=ygUFeWV1IDU%3D\n",
            "Yêu 5 | Quân A.P & Anh Tú Atus, bộ đôi trai đẹp trổ tài 'bắn rap' siêu ngầu\n",
            "/watch?v=4cRNC03X-hw&pp=ygUFeWV1IDU%3D\n",
            "https://www.youtube.com/watch?v=4cRNC03X-hw&pp=ygUFeWV1IDU%3D\n",
            "【抖音热歌】YEU 5 (Rhymastic's Remix)-F-tidal night / Rhymastic【完整版】\n",
            "/watch?v=ezUv_opL_6Q&pp=ygUFeWV1IDU%3D\n",
            "https://www.youtube.com/watch?v=ezUv_opL_6Q&pp=ygUFeWV1IDU%3D\n",
            "Yêu 5 - Rhymastic (speed) #kylaams\n",
            "/watch?v=6R7-587duwY&pp=ygUFeWV1IDU%3D\n",
            "https://www.youtube.com/watch?v=6R7-587duwY&pp=ygUFeWV1IDU%3D\n",
            "Nghe câu chuyện đứa bé 5 tuổi thất lạc trong rừng mà thắt lòng. thương quá.Giờ anh ở đâu ?\n",
            "/watch?v=1QFgJik8_Iw&pp=ygUFeWV1IDU%3D\n",
            "https://www.youtube.com/watch?v=1QFgJik8_Iw&pp=ygUFeWV1IDU%3D\n",
            "[1 Hour] Yêu 5 - Rhymastic「Audio」- Music 1 Hour\n",
            "/watch?v=_fLvuNZ1hXY&pp=ygUFeWV1IDU%3D\n",
            "https://www.youtube.com/watch?v=_fLvuNZ1hXY&pp=ygUFeWV1IDU%3D\n"
          ]
        }
      ]
    },
    {
      "cell_type": "code",
      "source": [
        "#BTVN: 5 mẫu đối thoại không tiếng Việt < 1 phuts(đuôi wav)\n",
        "# 5 đoạn nhạc chỉ hát ko nhạc (wav)\n",
        "# 5 đoạn văn bản\n",
        "#mang theo tai phone"
      ],
      "metadata": {
        "id": "Wfl_OPbNIRpS"
      },
      "execution_count": null,
      "outputs": []
    }
  ]
}